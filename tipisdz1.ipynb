{
 "cells": [
  {
   "cell_type": "code",
   "execution_count": 68,
   "id": "0bd61f33-1f50-4f34-8991-48fe4ffcf741",
   "metadata": {},
   "outputs": [],
   "source": [
    "import pandas as pd\n",
    "\n",
    "file_path = \"adult.data\"\n",
    "columns = [\"age\", \"workclass\", \"fnlwgt\", \"education\", \"education-num\", \"marital-status\", \n",
    "           \"occupation\", \"relationship\", \"race\", \"sex\", \"capital-gain\", \"capital-loss\", \n",
    "           \"hours-per-week\", \"native-country\", \"income\"]\n",
    "data = pd.read_csv(file_path, names=columns, na_values=' ?')\n"
   ]
  },
  {
   "cell_type": "code",
   "execution_count": 70,
   "id": "b00f5fa7-9660-48c2-87b9-6e56271c6e78",
   "metadata": {},
   "outputs": [],
   "source": [
    "# 1. Число столбцов в наборе данных\n",
    "num_columns = data.shape[1]"
   ]
  },
  {
   "cell_type": "code",
   "execution_count": 72,
   "id": "c09c836a-7dd8-4b37-beec-f5904fc4bb16",
   "metadata": {},
   "outputs": [],
   "source": [
    "# 2. Проверка на пропуски в данных\n",
    "missing_data = data.isnull().sum()"
   ]
  },
  {
   "cell_type": "code",
   "execution_count": 74,
   "id": "88dd49bb-613e-4b3c-83ee-ef70599fa5ad",
   "metadata": {},
   "outputs": [],
   "source": [
    "# 3. Кол-во уникальных значений в столбце race\n",
    "unique_race_values = data[\"race\"].nunique()"
   ]
  },
  {
   "cell_type": "code",
   "execution_count": 76,
   "id": "f32d5cdc-5ec2-4971-99e3-6ec1f9925707",
   "metadata": {},
   "outputs": [],
   "source": [
    "# 4. Медиана hours-per-week\n",
    "median_hours_per_week = data[\"hours-per-week\"].median()"
   ]
  },
  {
   "cell_type": "code",
   "execution_count": 78,
   "id": "ec510f2f-a614-4b4a-9a5a-1764cbd1955d",
   "metadata": {},
   "outputs": [],
   "source": [
    "# 5. Кого больше - женщин или мужчин с ЗП >50K?\n",
    "high_income = data[data[\"income\"] == \" >50K\"]\n",
    "gender_counts = high_income[\"sex\"].value_counts()"
   ]
  },
  {
   "cell_type": "code",
   "execution_count": 80,
   "id": "45eff6ca-9f5b-43f1-bb0b-38b0904a02e3",
   "metadata": {},
   "outputs": [],
   "source": [
    "# 6. Заполнение пропущенных данных наиболее встречаемыми значениями\n",
    "for column in data.columns:\n",
    "    if data[column].isnull().sum() > 0:\n",
    "        most_frequent_value = data[column].mode()[0]\n",
    "        data[column] = data[column].fillna(most_frequent_value)"
   ]
  },
  {
   "cell_type": "code",
   "execution_count": 94,
   "id": "35bfc418-e8c8-40b4-be93-297c5be09f28",
   "metadata": {},
   "outputs": [
    {
     "name": "stdout",
     "output_type": "stream",
     "text": [
      "1)Число столбцов в наборе данных: 15\n",
      "2)Пропуски в данных:\n",
      "workclass         1836\n",
      "occupation        1843\n",
      "native-country     583\n",
      "dtype: int64\n",
      "3)Количество уникальных значений в столбце 'race': 5\n",
      "4)Медиана 'hours-per-week': 40.0\n",
      "5)Количество мужчин с ЗП >50K: 6662\n",
      "5)Количество женщин с ЗП >50K: 1179\n",
      "Мужчин с ЗП >50K больше.\n",
      "Пропуски в данных после заполнения наиболее встречаемыми значениями:\n",
      "age               0\n",
      "workclass         0\n",
      "fnlwgt            0\n",
      "education         0\n",
      "education-num     0\n",
      "marital-status    0\n",
      "occupation        0\n",
      "relationship      0\n",
      "race              0\n",
      "sex               0\n",
      "capital-gain      0\n",
      "capital-loss      0\n",
      "hours-per-week    0\n",
      "native-country    0\n",
      "income            0\n",
      "dtype: int64\n"
     ]
    },
    {
     "data": {
      "text/plain": [
       "' Альтернативные методы заполнения :\\n Заполнение средним значением\\n Заполнение медианой \\n Заполнение модой\\n Заполнение интерполяцией\\n Заполнение данных из выборки\\n Использование алгоритмов машинного обучения для предсказания пропущенных значений '"
      ]
     },
     "execution_count": 94,
     "metadata": {},
     "output_type": "execute_result"
    }
   ],
   "source": [
    "print(f\"1)Число столбцов в наборе данных: {num_columns}\")\n",
    "print(\"2)Пропуски в данных:\")\n",
    "print(missing_data[missing_data > 0])\n",
    "print(f\"3)Количество уникальных значений в столбце 'race': {unique_race_values}\")\n",
    "print(f\"4)Медиана 'hours-per-week': {median_hours_per_week}\")\n",
    "print(f\"5)Количество мужчин с ЗП >50K: {gender_counts[' Male']}\")\n",
    "print(f\"5)Количество женщин с ЗП >50K: {gender_counts[' Female']}\")\n",
    "\n",
    "if gender_counts[' Male'] > gender_counts[' Female']:\n",
    "    print(\"Мужчин с ЗП >50K больше.\")\n",
    "else:\n",
    "    print(\"Женщин с ЗП >50K больше.\")\n",
    "\n",
    "# 6. Заполнение пропущенных данных наиболее встречаемыми значениями\n",
    "for column in data.columns:\n",
    "    if data[column].isnull().sum() > 0:\n",
    "        most_frequent_value = data[column].mode()[0]\n",
    "        data[column].fillna(most_frequent_value, inplace=True)\n",
    "print(\"Пропуски в данных после заполнения наиболее встречаемыми значениями:\")\n",
    "print(data.isnull().sum())\n",
    "\"\"\" Альтернативные методы заполнения :\n",
    " Заполнение средним значением\n",
    " Заполнение медианой \n",
    " Заполнение модой\n",
    " Заполнение интерполяцией\n",
    " Заполнение данных из выборки\n",
    " Использование алгоритмов машинного обучения для предсказания пропущенных значений \"\"\""
   ]
  },
  {
   "cell_type": "code",
   "execution_count": null,
   "id": "d592d8a2-b1fd-48e6-bba0-2d6b2c28bac3",
   "metadata": {},
   "outputs": [],
   "source": []
  }
 ],
 "metadata": {
  "kernelspec": {
   "display_name": "Python 3 (ipykernel)",
   "language": "python",
   "name": "python3"
  },
  "language_info": {
   "codemirror_mode": {
    "name": "ipython",
    "version": 3
   },
   "file_extension": ".py",
   "mimetype": "text/x-python",
   "name": "python",
   "nbconvert_exporter": "python",
   "pygments_lexer": "ipython3",
   "version": "3.12.4"
  }
 },
 "nbformat": 4,
 "nbformat_minor": 5
}
